{
 "cells": [
  {
   "cell_type": "markdown",
   "id": "61f613c9",
   "metadata": {},
   "source": [
    "\n",
    "# Classify Raisins with Hyperparameter Tuning\n",
    "\n",
    "## Project Overview\n",
    "This project aims to classify two types of raisin grains—Kecimen and Besni—using a dataset with seven numerical predictor variables. The goal is to build and optimize machine learning models to accurately classify these raisin types based on their morphological features. We will utilize two hyperparameter tuning methods:\n",
    "\n",
    "1. **Grid Search** to tune a Decision Tree Classifier.\n",
    "2. **Random Search** to tune a Logistic Regression Classifier.\n",
    "\n",
    "The dataset includes a total of 900 samples, equally distributed between the two classes.\n",
    "\n",
    "## Objective\n",
    "The primary objective is to apply machine learning techniques to distinguish between the two types of raisins and identify the best-performing model with optimal hyperparameters. This project will cover:\n",
    "\n",
    "1. Exploratory Data Analysis (EDA) to understand the distribution and characteristics of the features.\n",
    "2. Data Preprocessing including scaling and encoding.\n",
    "3. Model Training and Hyperparameter Tuning.\n",
    "4. Model Evaluation using performance metrics like accuracy, precision, recall, and F1-score.\n",
    "\n",
    "## Dataset Description\n",
    "The dataset consists of the following features:\n",
    "\n",
    "- **Area**: Area of the raisin grain.\n",
    "- **MajorAxisLength**: Length of the major axis of the raisin grain.\n",
    "- **MinorAxisLength**: Length of the minor axis of the raisin grain.\n",
    "- **Eccentricity**: Eccentricity of the raisin grain.\n",
    "- **ConvexArea**: Convex area of the raisin grain.\n",
    "- **Extent**: Extent of the raisin grain.\n",
    "- **Perimeter**: Perimeter of the raisin grain.\n",
    "- **Class**: Type of raisin (Kecimen or Besni).\n",
    "\n",
    "## Methodology\n",
    "The project is structured as follows:\n",
    "\n",
    "1. **Data Exploration and Visualization**: Understanding the distribution of features and relationships between them.\n",
    "2. **Data Preprocessing**: Scaling and encoding the data to prepare it for modeling.\n",
    "3. **Model Training and Hyperparameter Tuning**: Implementing and optimizing models using Grid Search and Random Search.\n",
    "4. **Model Evaluation**: Evaluating the performance of the models using various metrics.\n",
    "5. **Conclusion and Future Work**: Summarizing findings and suggesting potential improvements.\n",
    "\n",
    "---\n",
    "\n"
   ]
  },
  {
   "cell_type": "code",
   "execution_count": 1,
   "id": "8bbdfdf8",
   "metadata": {},
   "outputs": [],
   "source": [
    "# Load Libraries\n",
    "import numpy as np\n",
    "import pandas as pd\n",
    "import seaborn as sns\n",
    "import matplotlib.pyplot as plt\n",
    "import scipy.stats as stats\n",
    "from sklearn.tree import DecisionTreeClassifier\n",
    "from sklearn.linear_model import LogisticRegression\n",
    "from sklearn.model_selection import GridSearchCV\n",
    "from sklearn.model_selection import RandomizedSearchCV\n",
    "from sklearn.model_selection import train_test_split,cross_validate, GridSearchCV, StratifiedKFold\n",
    "from sklearn.preprocessing import StandardScaler, MinMaxScaler, RobustScaler, LabelEncoder\n",
    "from sklearn.linear_model import LogisticRegression\n",
    "from sklearn.neighbors import KNeighborsClassifier\n",
    "from sklearn.svm import SVC\n",
    "from sklearn.tree import DecisionTreeClassifier\n",
    "from sklearn.pipeline import Pipeline\n",
    "from sklearn.metrics import accuracy_score, recall_score, precision_score, f1_score, log_loss\n",
    "from sklearn.metrics import confusion_matrix, classification_report, ConfusionMatrixDisplay\n",
    "from sklearn.metrics import RocCurveDisplay, PrecisionRecallDisplay, roc_auc_score, auc, roc_curve, average_precision_score, precision_recall_curve"
   ]
  },
  {
   "cell_type": "code",
   "execution_count": 2,
   "id": "70f2489e",
   "metadata": {},
   "outputs": [
    {
     "ename": "FileNotFoundError",
     "evalue": "[Errno 2] No such file or directory: 'Raisin_Dataset.xlsx'",
     "output_type": "error",
     "traceback": [
      "\u001b[0;31m---------------------------------------------------------------------------\u001b[0m",
      "\u001b[0;31mFileNotFoundError\u001b[0m                         Traceback (most recent call last)",
      "Cell \u001b[0;32mIn[2], line 3\u001b[0m\n\u001b[1;32m      1\u001b[0m \u001b[38;5;66;03m# Preview data\u001b[39;00m\n\u001b[1;32m      2\u001b[0m \u001b[38;5;66;03m# Load the data with the correct delimiter\u001b[39;00m\n\u001b[0;32m----> 3\u001b[0m raisins \u001b[38;5;241m=\u001b[39m \u001b[43mpd\u001b[49m\u001b[38;5;241;43m.\u001b[39;49m\u001b[43mread_excel\u001b[49m\u001b[43m(\u001b[49m\u001b[38;5;124;43m'\u001b[39;49m\u001b[38;5;124;43mRaisin_Dataset.xlsx\u001b[39;49m\u001b[38;5;124;43m'\u001b[39;49m\u001b[43m)\u001b[49m\n\u001b[1;32m      5\u001b[0m raisins\u001b[38;5;241m.\u001b[39mhead()\n\u001b[1;32m      7\u001b[0m \u001b[38;5;66;03m# 2. Create predictor and target variables, X and y\u001b[39;00m\n",
      "File \u001b[0;32m/opt/anaconda3/envs/condavenv310/lib/python3.10/site-packages/pandas/io/excel/_base.py:495\u001b[0m, in \u001b[0;36mread_excel\u001b[0;34m(io, sheet_name, header, names, index_col, usecols, dtype, engine, converters, true_values, false_values, skiprows, nrows, na_values, keep_default_na, na_filter, verbose, parse_dates, date_parser, date_format, thousands, decimal, comment, skipfooter, storage_options, dtype_backend, engine_kwargs)\u001b[0m\n\u001b[1;32m    493\u001b[0m \u001b[38;5;28;01mif\u001b[39;00m \u001b[38;5;129;01mnot\u001b[39;00m \u001b[38;5;28misinstance\u001b[39m(io, ExcelFile):\n\u001b[1;32m    494\u001b[0m     should_close \u001b[38;5;241m=\u001b[39m \u001b[38;5;28;01mTrue\u001b[39;00m\n\u001b[0;32m--> 495\u001b[0m     io \u001b[38;5;241m=\u001b[39m \u001b[43mExcelFile\u001b[49m\u001b[43m(\u001b[49m\n\u001b[1;32m    496\u001b[0m \u001b[43m        \u001b[49m\u001b[43mio\u001b[49m\u001b[43m,\u001b[49m\n\u001b[1;32m    497\u001b[0m \u001b[43m        \u001b[49m\u001b[43mstorage_options\u001b[49m\u001b[38;5;241;43m=\u001b[39;49m\u001b[43mstorage_options\u001b[49m\u001b[43m,\u001b[49m\n\u001b[1;32m    498\u001b[0m \u001b[43m        \u001b[49m\u001b[43mengine\u001b[49m\u001b[38;5;241;43m=\u001b[39;49m\u001b[43mengine\u001b[49m\u001b[43m,\u001b[49m\n\u001b[1;32m    499\u001b[0m \u001b[43m        \u001b[49m\u001b[43mengine_kwargs\u001b[49m\u001b[38;5;241;43m=\u001b[39;49m\u001b[43mengine_kwargs\u001b[49m\u001b[43m,\u001b[49m\n\u001b[1;32m    500\u001b[0m \u001b[43m    \u001b[49m\u001b[43m)\u001b[49m\n\u001b[1;32m    501\u001b[0m \u001b[38;5;28;01melif\u001b[39;00m engine \u001b[38;5;129;01mand\u001b[39;00m engine \u001b[38;5;241m!=\u001b[39m io\u001b[38;5;241m.\u001b[39mengine:\n\u001b[1;32m    502\u001b[0m     \u001b[38;5;28;01mraise\u001b[39;00m \u001b[38;5;167;01mValueError\u001b[39;00m(\n\u001b[1;32m    503\u001b[0m         \u001b[38;5;124m\"\u001b[39m\u001b[38;5;124mEngine should not be specified when passing \u001b[39m\u001b[38;5;124m\"\u001b[39m\n\u001b[1;32m    504\u001b[0m         \u001b[38;5;124m\"\u001b[39m\u001b[38;5;124man ExcelFile - ExcelFile already has the engine set\u001b[39m\u001b[38;5;124m\"\u001b[39m\n\u001b[1;32m    505\u001b[0m     )\n",
      "File \u001b[0;32m/opt/anaconda3/envs/condavenv310/lib/python3.10/site-packages/pandas/io/excel/_base.py:1550\u001b[0m, in \u001b[0;36mExcelFile.__init__\u001b[0;34m(self, path_or_buffer, engine, storage_options, engine_kwargs)\u001b[0m\n\u001b[1;32m   1548\u001b[0m     ext \u001b[38;5;241m=\u001b[39m \u001b[38;5;124m\"\u001b[39m\u001b[38;5;124mxls\u001b[39m\u001b[38;5;124m\"\u001b[39m\n\u001b[1;32m   1549\u001b[0m \u001b[38;5;28;01melse\u001b[39;00m:\n\u001b[0;32m-> 1550\u001b[0m     ext \u001b[38;5;241m=\u001b[39m \u001b[43minspect_excel_format\u001b[49m\u001b[43m(\u001b[49m\n\u001b[1;32m   1551\u001b[0m \u001b[43m        \u001b[49m\u001b[43mcontent_or_path\u001b[49m\u001b[38;5;241;43m=\u001b[39;49m\u001b[43mpath_or_buffer\u001b[49m\u001b[43m,\u001b[49m\u001b[43m \u001b[49m\u001b[43mstorage_options\u001b[49m\u001b[38;5;241;43m=\u001b[39;49m\u001b[43mstorage_options\u001b[49m\n\u001b[1;32m   1552\u001b[0m \u001b[43m    \u001b[49m\u001b[43m)\u001b[49m\n\u001b[1;32m   1553\u001b[0m     \u001b[38;5;28;01mif\u001b[39;00m ext \u001b[38;5;129;01mis\u001b[39;00m \u001b[38;5;28;01mNone\u001b[39;00m:\n\u001b[1;32m   1554\u001b[0m         \u001b[38;5;28;01mraise\u001b[39;00m \u001b[38;5;167;01mValueError\u001b[39;00m(\n\u001b[1;32m   1555\u001b[0m             \u001b[38;5;124m\"\u001b[39m\u001b[38;5;124mExcel file format cannot be determined, you must specify \u001b[39m\u001b[38;5;124m\"\u001b[39m\n\u001b[1;32m   1556\u001b[0m             \u001b[38;5;124m\"\u001b[39m\u001b[38;5;124man engine manually.\u001b[39m\u001b[38;5;124m\"\u001b[39m\n\u001b[1;32m   1557\u001b[0m         )\n",
      "File \u001b[0;32m/opt/anaconda3/envs/condavenv310/lib/python3.10/site-packages/pandas/io/excel/_base.py:1402\u001b[0m, in \u001b[0;36minspect_excel_format\u001b[0;34m(content_or_path, storage_options)\u001b[0m\n\u001b[1;32m   1399\u001b[0m \u001b[38;5;28;01mif\u001b[39;00m \u001b[38;5;28misinstance\u001b[39m(content_or_path, \u001b[38;5;28mbytes\u001b[39m):\n\u001b[1;32m   1400\u001b[0m     content_or_path \u001b[38;5;241m=\u001b[39m BytesIO(content_or_path)\n\u001b[0;32m-> 1402\u001b[0m \u001b[38;5;28;01mwith\u001b[39;00m \u001b[43mget_handle\u001b[49m\u001b[43m(\u001b[49m\n\u001b[1;32m   1403\u001b[0m \u001b[43m    \u001b[49m\u001b[43mcontent_or_path\u001b[49m\u001b[43m,\u001b[49m\u001b[43m \u001b[49m\u001b[38;5;124;43m\"\u001b[39;49m\u001b[38;5;124;43mrb\u001b[39;49m\u001b[38;5;124;43m\"\u001b[39;49m\u001b[43m,\u001b[49m\u001b[43m \u001b[49m\u001b[43mstorage_options\u001b[49m\u001b[38;5;241;43m=\u001b[39;49m\u001b[43mstorage_options\u001b[49m\u001b[43m,\u001b[49m\u001b[43m \u001b[49m\u001b[43mis_text\u001b[49m\u001b[38;5;241;43m=\u001b[39;49m\u001b[38;5;28;43;01mFalse\u001b[39;49;00m\n\u001b[1;32m   1404\u001b[0m \u001b[43m\u001b[49m\u001b[43m)\u001b[49m \u001b[38;5;28;01mas\u001b[39;00m handle:\n\u001b[1;32m   1405\u001b[0m     stream \u001b[38;5;241m=\u001b[39m handle\u001b[38;5;241m.\u001b[39mhandle\n\u001b[1;32m   1406\u001b[0m     stream\u001b[38;5;241m.\u001b[39mseek(\u001b[38;5;241m0\u001b[39m)\n",
      "File \u001b[0;32m/opt/anaconda3/envs/condavenv310/lib/python3.10/site-packages/pandas/io/common.py:882\u001b[0m, in \u001b[0;36mget_handle\u001b[0;34m(path_or_buf, mode, encoding, compression, memory_map, is_text, errors, storage_options)\u001b[0m\n\u001b[1;32m    873\u001b[0m         handle \u001b[38;5;241m=\u001b[39m \u001b[38;5;28mopen\u001b[39m(\n\u001b[1;32m    874\u001b[0m             handle,\n\u001b[1;32m    875\u001b[0m             ioargs\u001b[38;5;241m.\u001b[39mmode,\n\u001b[0;32m   (...)\u001b[0m\n\u001b[1;32m    878\u001b[0m             newline\u001b[38;5;241m=\u001b[39m\u001b[38;5;124m\"\u001b[39m\u001b[38;5;124m\"\u001b[39m,\n\u001b[1;32m    879\u001b[0m         )\n\u001b[1;32m    880\u001b[0m     \u001b[38;5;28;01melse\u001b[39;00m:\n\u001b[1;32m    881\u001b[0m         \u001b[38;5;66;03m# Binary mode\u001b[39;00m\n\u001b[0;32m--> 882\u001b[0m         handle \u001b[38;5;241m=\u001b[39m \u001b[38;5;28;43mopen\u001b[39;49m\u001b[43m(\u001b[49m\u001b[43mhandle\u001b[49m\u001b[43m,\u001b[49m\u001b[43m \u001b[49m\u001b[43mioargs\u001b[49m\u001b[38;5;241;43m.\u001b[39;49m\u001b[43mmode\u001b[49m\u001b[43m)\u001b[49m\n\u001b[1;32m    883\u001b[0m     handles\u001b[38;5;241m.\u001b[39mappend(handle)\n\u001b[1;32m    885\u001b[0m \u001b[38;5;66;03m# Convert BytesIO or file objects passed with an encoding\u001b[39;00m\n",
      "\u001b[0;31mFileNotFoundError\u001b[0m: [Errno 2] No such file or directory: 'Raisin_Dataset.xlsx'"
     ]
    }
   ],
   "source": [
    "# Preview data\n",
    "# Load the data with the correct delimiter\n",
    "raisins = pd.read_excel('Raisin_Dataset.xlsx')\n",
    "\n",
    "raisins.head()\n",
    "\n",
    "# 2. Create predictor and target variables, X and y\n",
    "X = raisins.drop('Class', axis=1)\n",
    "y = raisins['Class']\n",
    "\n",
    "# Print column names to check the correct column name for 'quality'\n",
    "print(\"Column names:\", raisins.columns.tolist())"
   ]
  },
  {
   "cell_type": "code",
   "execution_count": 14,
   "id": "3c5ef09f",
   "metadata": {},
   "outputs": [
    {
     "name": "stdout",
     "output_type": "stream",
     "text": [
      "Number of features: 7\n",
      "Total number of samples: 900\n",
      "Samples belonging to class '1': KecimenKecimenKecimenKecimenKecimenKecimenKecimenKecimenKecimenKecimenKecimenKecimenKecimenKecimenKecimenKecimenKecimenKecimenKecimenKecimenKecimenKecimenKecimenKecimenKecimenKecimenKecimenKecimenKecimenKecimenKecimenKecimenKecimenKecimenKecimenKecimenKecimenKecimenKecimenKecimenKecimenKecimenKecimenKecimenKecimenKecimenKecimenKecimenKecimenKecimenKecimenKecimenKecimenKecimenKecimenKecimenKecimenKecimenKecimenKecimenKecimenKecimenKecimenKecimenKecimenKecimenKecimenKecimenKecimenKecimenKecimenKecimenKecimenKecimenKecimenKecimenKecimenKecimenKecimenKecimenKecimenKecimenKecimenKecimenKecimenKecimenKecimenKecimenKecimenKecimenKecimenKecimenKecimenKecimenKecimenKecimenKecimenKecimenKecimenKecimenKecimenKecimenKecimenKecimenKecimenKecimenKecimenKecimenKecimenKecimenKecimenKecimenKecimenKecimenKecimenKecimenKecimenKecimenKecimenKecimenKecimenKecimenKecimenKecimenKecimenKecimenKecimenKecimenKecimenKecimenKecimenKecimenKecimenKecimenKecimenKecimenKecimenKecimenKecimenKecimenKecimenKecimenKecimenKecimenKecimenKecimenKecimenKecimenKecimenKecimenKecimenKecimenKecimenKecimenKecimenKecimenKecimenKecimenKecimenKecimenKecimenKecimenKecimenKecimenKecimenKecimenKecimenKecimenKecimenKecimenKecimenKecimenKecimenKecimenKecimenKecimenKecimenKecimenKecimenKecimenKecimenKecimenKecimenKecimenKecimenKecimenKecimenKecimenKecimenKecimenKecimenKecimenKecimenKecimenKecimenKecimenKecimenKecimenKecimenKecimenKecimenKecimenKecimenKecimenKecimenKecimenKecimenKecimenKecimenKecimenKecimenKecimenKecimenKecimenKecimenKecimenKecimenKecimenKecimenKecimenKecimenKecimenKecimenKecimenKecimenKecimenKecimenKecimenKecimenKecimenKecimenKecimenKecimenKecimenKecimenKecimenKecimenKecimenKecimenKecimenKecimenKecimenKecimenKecimenKecimenKecimenKecimenKecimenKecimenKecimenKecimenKecimenKecimenKecimenKecimenKecimenKecimenKecimenKecimenKecimenKecimenKecimenKecimenKecimenKecimenKecimenKecimenKecimenKecimenKecimenKecimenKecimenKecimenKecimenKecimenKecimenKecimenKecimenKecimenKecimenKecimenKecimenKecimenKecimenKecimenKecimenKecimenKecimenKecimenKecimenKecimenKecimenKecimenKecimenKecimenKecimenKecimenKecimenKecimenKecimenKecimenKecimenKecimenKecimenKecimenKecimenKecimenKecimenKecimenKecimenKecimenKecimenKecimenKecimenKecimenKecimenKecimenKecimenKecimenKecimenKecimenKecimenKecimenKecimenKecimenKecimenKecimenKecimenKecimenKecimenKecimenKecimenKecimenKecimenKecimenKecimenKecimenKecimenKecimenKecimenKecimenKecimenKecimenKecimenKecimenKecimenKecimenKecimenKecimenKecimenKecimenKecimenKecimenKecimenKecimenKecimenKecimenKecimenKecimenKecimenKecimenKecimenKecimenKecimenKecimenKecimenKecimenKecimenKecimenKecimenKecimenKecimenKecimenKecimenKecimenKecimenKecimenKecimenKecimenKecimenKecimenKecimenKecimenKecimenKecimenKecimenKecimenKecimenKecimenKecimenKecimenKecimenKecimenKecimenKecimenKecimenKecimenKecimenKecimenKecimenKecimenKecimenKecimenKecimenKecimenKecimenKecimenKecimenKecimenKecimenKecimenKecimenKecimenKecimenKecimenKecimenKecimenKecimenKecimenKecimenKecimenKecimenKecimenKecimenKecimenKecimenKecimenKecimenKecimenKecimenKecimenKecimenKecimenKecimenKecimenKecimenKecimenKecimenKecimenKecimenKecimenKecimenKecimenKecimenKecimenKecimenKecimenKecimenKecimenKecimenBesniBesniBesniBesniBesniBesniBesniBesniBesniBesniBesniBesniBesniBesniBesniBesniBesniBesniBesniBesniBesniBesniBesniBesniBesniBesniBesniBesniBesniBesniBesniBesniBesniBesniBesniBesniBesniBesniBesniBesniBesniBesniBesniBesniBesniBesniBesniBesniBesniBesniBesniBesniBesniBesniBesniBesniBesniBesniBesniBesniBesniBesniBesniBesniBesniBesniBesniBesniBesniBesniBesniBesniBesniBesniBesniBesniBesniBesniBesniBesniBesniBesniBesniBesniBesniBesniBesniBesniBesniBesniBesniBesniBesniBesniBesniBesniBesniBesniBesniBesniBesniBesniBesniBesniBesniBesniBesniBesniBesniBesniBesniBesniBesniBesniBesniBesniBesniBesniBesniBesniBesniBesniBesniBesniBesniBesniBesniBesniBesniBesniBesniBesniBesniBesniBesniBesniBesniBesniBesniBesniBesniBesniBesniBesniBesniBesniBesniBesniBesniBesniBesniBesniBesniBesniBesniBesniBesniBesniBesniBesniBesniBesniBesniBesniBesniBesniBesniBesniBesniBesniBesniBesniBesniBesniBesniBesniBesniBesniBesniBesniBesniBesniBesniBesniBesniBesniBesniBesniBesniBesniBesniBesniBesniBesniBesniBesniBesniBesniBesniBesniBesniBesniBesniBesniBesniBesniBesniBesniBesniBesniBesniBesniBesniBesniBesniBesniBesniBesniBesniBesniBesniBesniBesniBesniBesniBesniBesniBesniBesniBesniBesniBesniBesniBesniBesniBesniBesniBesniBesniBesniBesniBesniBesniBesniBesniBesniBesniBesniBesniBesniBesniBesniBesniBesniBesniBesniBesniBesniBesniBesniBesniBesniBesniBesniBesniBesniBesniBesniBesniBesniBesniBesniBesniBesniBesniBesniBesniBesniBesniBesniBesniBesniBesniBesniBesniBesniBesniBesniBesniBesniBesniBesniBesniBesniBesniBesniBesniBesniBesniBesniBesniBesniBesniBesniBesniBesniBesniBesniBesniBesniBesniBesniBesniBesniBesniBesniBesniBesniBesniBesniBesniBesniBesniBesniBesniBesniBesniBesniBesniBesniBesniBesniBesniBesniBesniBesniBesniBesniBesniBesniBesniBesniBesniBesniBesniBesniBesniBesniBesniBesniBesniBesniBesniBesniBesniBesniBesniBesniBesniBesniBesniBesniBesniBesniBesniBesniBesniBesniBesniBesniBesniBesniBesniBesniBesniBesniBesniBesniBesniBesniBesniBesniBesniBesniBesniBesniBesniBesniBesniBesniBesniBesniBesniBesniBesniBesniBesniBesniBesniBesniBesniBesniBesniBesniBesniBesniBesniBesniBesniBesniBesniBesniBesniBesniBesniBesniBesniBesniBesniBesniBesniBesniBesniBesniBesniBesniBesniBesniBesniBesniBesniBesniBesniBesniBesniBesniBesniBesniBesniBesniBesniBesniBesniBesniBesniBesniBesniBesniBesniBesni\n"
     ]
    }
   ],
   "source": [
    "# 3. Examine the dataset\n",
    "print(\"Number of features:\", X.shape[1])\n",
    "print(\"Total number of samples:\", len(y))\n",
    "print(\"Samples belonging to class '1':\", y.sum())"
   ]
  },
  {
   "cell_type": "code",
   "execution_count": 15,
   "id": "9e119661",
   "metadata": {},
   "outputs": [],
   "source": [
    "# 4. Split the data set into training and testing sets\n",
    "X_train, X_test, y_train, y_test = train_test_split(X, y, random_state = 19)"
   ]
  },
  {
   "cell_type": "code",
   "execution_count": 16,
   "id": "2f16c3fc",
   "metadata": {},
   "outputs": [],
   "source": [
    "# 5. Create a Decision Tree model\n",
    "tree = DecisionTreeClassifier()"
   ]
  },
  {
   "cell_type": "code",
   "execution_count": 17,
   "id": "3faf02ed",
   "metadata": {},
   "outputs": [],
   "source": [
    "# 6. Dictionary of parameters for GridSearchCV\n",
    "parameters = {'min_samples_split': [2,3,4], 'max_depth': [3,5,7]}"
   ]
  },
  {
   "cell_type": "code",
   "execution_count": 18,
   "id": "714d80ad",
   "metadata": {},
   "outputs": [
    {
     "data": {
      "text/html": [
       "<style>#sk-container-id-1 {color: black;background-color: white;}#sk-container-id-1 pre{padding: 0;}#sk-container-id-1 div.sk-toggleable {background-color: white;}#sk-container-id-1 label.sk-toggleable__label {cursor: pointer;display: block;width: 100%;margin-bottom: 0;padding: 0.3em;box-sizing: border-box;text-align: center;}#sk-container-id-1 label.sk-toggleable__label-arrow:before {content: \"▸\";float: left;margin-right: 0.25em;color: #696969;}#sk-container-id-1 label.sk-toggleable__label-arrow:hover:before {color: black;}#sk-container-id-1 div.sk-estimator:hover label.sk-toggleable__label-arrow:before {color: black;}#sk-container-id-1 div.sk-toggleable__content {max-height: 0;max-width: 0;overflow: hidden;text-align: left;background-color: #f0f8ff;}#sk-container-id-1 div.sk-toggleable__content pre {margin: 0.2em;color: black;border-radius: 0.25em;background-color: #f0f8ff;}#sk-container-id-1 input.sk-toggleable__control:checked~div.sk-toggleable__content {max-height: 200px;max-width: 100%;overflow: auto;}#sk-container-id-1 input.sk-toggleable__control:checked~label.sk-toggleable__label-arrow:before {content: \"▾\";}#sk-container-id-1 div.sk-estimator input.sk-toggleable__control:checked~label.sk-toggleable__label {background-color: #d4ebff;}#sk-container-id-1 div.sk-label input.sk-toggleable__control:checked~label.sk-toggleable__label {background-color: #d4ebff;}#sk-container-id-1 input.sk-hidden--visually {border: 0;clip: rect(1px 1px 1px 1px);clip: rect(1px, 1px, 1px, 1px);height: 1px;margin: -1px;overflow: hidden;padding: 0;position: absolute;width: 1px;}#sk-container-id-1 div.sk-estimator {font-family: monospace;background-color: #f0f8ff;border: 1px dotted black;border-radius: 0.25em;box-sizing: border-box;margin-bottom: 0.5em;}#sk-container-id-1 div.sk-estimator:hover {background-color: #d4ebff;}#sk-container-id-1 div.sk-parallel-item::after {content: \"\";width: 100%;border-bottom: 1px solid gray;flex-grow: 1;}#sk-container-id-1 div.sk-label:hover label.sk-toggleable__label {background-color: #d4ebff;}#sk-container-id-1 div.sk-serial::before {content: \"\";position: absolute;border-left: 1px solid gray;box-sizing: border-box;top: 0;bottom: 0;left: 50%;z-index: 0;}#sk-container-id-1 div.sk-serial {display: flex;flex-direction: column;align-items: center;background-color: white;padding-right: 0.2em;padding-left: 0.2em;position: relative;}#sk-container-id-1 div.sk-item {position: relative;z-index: 1;}#sk-container-id-1 div.sk-parallel {display: flex;align-items: stretch;justify-content: center;background-color: white;position: relative;}#sk-container-id-1 div.sk-item::before, #sk-container-id-1 div.sk-parallel-item::before {content: \"\";position: absolute;border-left: 1px solid gray;box-sizing: border-box;top: 0;bottom: 0;left: 50%;z-index: -1;}#sk-container-id-1 div.sk-parallel-item {display: flex;flex-direction: column;z-index: 1;position: relative;background-color: white;}#sk-container-id-1 div.sk-parallel-item:first-child::after {align-self: flex-end;width: 50%;}#sk-container-id-1 div.sk-parallel-item:last-child::after {align-self: flex-start;width: 50%;}#sk-container-id-1 div.sk-parallel-item:only-child::after {width: 0;}#sk-container-id-1 div.sk-dashed-wrapped {border: 1px dashed gray;margin: 0 0.4em 0.5em 0.4em;box-sizing: border-box;padding-bottom: 0.4em;background-color: white;}#sk-container-id-1 div.sk-label label {font-family: monospace;font-weight: bold;display: inline-block;line-height: 1.2em;}#sk-container-id-1 div.sk-label-container {text-align: center;}#sk-container-id-1 div.sk-container {/* jupyter's `normalize.less` sets `[hidden] { display: none; }` but bootstrap.min.css set `[hidden] { display: none !important; }` so we also need the `!important` here to be able to override the default hidden behavior on the sphinx rendered scikit-learn.org. See: https://github.com/scikit-learn/scikit-learn/issues/21755 */display: inline-block !important;position: relative;}#sk-container-id-1 div.sk-text-repr-fallback {display: none;}</style><div id=\"sk-container-id-1\" class=\"sk-top-container\"><div class=\"sk-text-repr-fallback\"><pre>GridSearchCV(estimator=DecisionTreeClassifier(),\n",
       "             param_grid={&#x27;max_depth&#x27;: [3, 5, 7],\n",
       "                         &#x27;min_samples_split&#x27;: [2, 3, 4]})</pre><b>In a Jupyter environment, please rerun this cell to show the HTML representation or trust the notebook. <br />On GitHub, the HTML representation is unable to render, please try loading this page with nbviewer.org.</b></div><div class=\"sk-container\" hidden><div class=\"sk-item sk-dashed-wrapped\"><div class=\"sk-label-container\"><div class=\"sk-label sk-toggleable\"><input class=\"sk-toggleable__control sk-hidden--visually\" id=\"sk-estimator-id-1\" type=\"checkbox\" ><label for=\"sk-estimator-id-1\" class=\"sk-toggleable__label sk-toggleable__label-arrow\">GridSearchCV</label><div class=\"sk-toggleable__content\"><pre>GridSearchCV(estimator=DecisionTreeClassifier(),\n",
       "             param_grid={&#x27;max_depth&#x27;: [3, 5, 7],\n",
       "                         &#x27;min_samples_split&#x27;: [2, 3, 4]})</pre></div></div></div><div class=\"sk-parallel\"><div class=\"sk-parallel-item\"><div class=\"sk-item\"><div class=\"sk-label-container\"><div class=\"sk-label sk-toggleable\"><input class=\"sk-toggleable__control sk-hidden--visually\" id=\"sk-estimator-id-2\" type=\"checkbox\" ><label for=\"sk-estimator-id-2\" class=\"sk-toggleable__label sk-toggleable__label-arrow\">estimator: DecisionTreeClassifier</label><div class=\"sk-toggleable__content\"><pre>DecisionTreeClassifier()</pre></div></div></div><div class=\"sk-serial\"><div class=\"sk-item\"><div class=\"sk-estimator sk-toggleable\"><input class=\"sk-toggleable__control sk-hidden--visually\" id=\"sk-estimator-id-3\" type=\"checkbox\" ><label for=\"sk-estimator-id-3\" class=\"sk-toggleable__label sk-toggleable__label-arrow\">DecisionTreeClassifier</label><div class=\"sk-toggleable__content\"><pre>DecisionTreeClassifier()</pre></div></div></div></div></div></div></div></div></div></div>"
      ],
      "text/plain": [
       "GridSearchCV(estimator=DecisionTreeClassifier(),\n",
       "             param_grid={'max_depth': [3, 5, 7],\n",
       "                         'min_samples_split': [2, 3, 4]})"
      ]
     },
     "execution_count": 18,
     "metadata": {},
     "output_type": "execute_result"
    }
   ],
   "source": [
    "# 7. Create a GridSearchCV model\n",
    "grid = GridSearchCV(tree, parameters)\n",
    "\n",
    "#Fit the GridSearchCV model to the training data\n",
    "grid.fit(X_train, y_train)"
   ]
  },
  {
   "cell_type": "code",
   "execution_count": 19,
   "id": "8f54d529",
   "metadata": {},
   "outputs": [
    {
     "name": "stdout",
     "output_type": "stream",
     "text": [
      "DecisionTreeClassifier(max_depth=5)\n",
      "0.8711111111111112\n",
      "0.8177777777777778\n"
     ]
    }
   ],
   "source": [
    "# 8. Print the model and hyperparameters obtained by GridSearchCV\n",
    "print(grid.best_estimator_)\n",
    "\n",
    "# Print best score\n",
    "print(grid.best_score_)\n",
    "# Print the accuracy of the final model on the test data\n",
    "print(grid.score(X_test, y_test))"
   ]
  },
  {
   "cell_type": "code",
   "execution_count": 20,
   "id": "327d7713",
   "metadata": {},
   "outputs": [
    {
     "name": "stdout",
     "output_type": "stream",
     "text": [
      "   max_depth  min_samples_split     Score\n",
      "0          3                  2  0.862222\n",
      "1          3                  3  0.859259\n",
      "2          3                  4  0.859259\n",
      "3          5                  2  0.871111\n",
      "4          5                  3  0.862222\n",
      "5          5                  4  0.865185\n",
      "6          7                  2  0.841481\n",
      "7          7                  3  0.845926\n",
      "8          7                  4  0.845926\n"
     ]
    }
   ],
   "source": [
    "# 9. Print a table summarizing the results of GridSearchCV\n",
    "df = pd.concat([pd.DataFrame(grid.cv_results_['params']), pd.DataFrame(grid.cv_results_['mean_test_score'], columns=['Score'])], axis=1)\n",
    "print(df)"
   ]
  },
  {
   "cell_type": "code",
   "execution_count": 21,
   "id": "88a74113",
   "metadata": {},
   "outputs": [],
   "source": [
    "# 10. The logistic regression model\n",
    "lr = LogisticRegression(solver = 'liblinear', max_iter = 1000)"
   ]
  },
  {
   "cell_type": "code",
   "execution_count": 22,
   "id": "1ebf5343",
   "metadata": {},
   "outputs": [],
   "source": [
    "# 11. Define distributions to choose hyperparameters from\n",
    "from scipy.stats import uniform\n",
    "distributions = {'penalty': ['l1', 'l2'], 'C': uniform(loc=0, scale=100)}"
   ]
  },
  {
   "cell_type": "code",
   "execution_count": 23,
   "id": "1969cc5b",
   "metadata": {},
   "outputs": [
    {
     "data": {
      "text/html": [
       "<style>#sk-container-id-2 {color: black;background-color: white;}#sk-container-id-2 pre{padding: 0;}#sk-container-id-2 div.sk-toggleable {background-color: white;}#sk-container-id-2 label.sk-toggleable__label {cursor: pointer;display: block;width: 100%;margin-bottom: 0;padding: 0.3em;box-sizing: border-box;text-align: center;}#sk-container-id-2 label.sk-toggleable__label-arrow:before {content: \"▸\";float: left;margin-right: 0.25em;color: #696969;}#sk-container-id-2 label.sk-toggleable__label-arrow:hover:before {color: black;}#sk-container-id-2 div.sk-estimator:hover label.sk-toggleable__label-arrow:before {color: black;}#sk-container-id-2 div.sk-toggleable__content {max-height: 0;max-width: 0;overflow: hidden;text-align: left;background-color: #f0f8ff;}#sk-container-id-2 div.sk-toggleable__content pre {margin: 0.2em;color: black;border-radius: 0.25em;background-color: #f0f8ff;}#sk-container-id-2 input.sk-toggleable__control:checked~div.sk-toggleable__content {max-height: 200px;max-width: 100%;overflow: auto;}#sk-container-id-2 input.sk-toggleable__control:checked~label.sk-toggleable__label-arrow:before {content: \"▾\";}#sk-container-id-2 div.sk-estimator input.sk-toggleable__control:checked~label.sk-toggleable__label {background-color: #d4ebff;}#sk-container-id-2 div.sk-label input.sk-toggleable__control:checked~label.sk-toggleable__label {background-color: #d4ebff;}#sk-container-id-2 input.sk-hidden--visually {border: 0;clip: rect(1px 1px 1px 1px);clip: rect(1px, 1px, 1px, 1px);height: 1px;margin: -1px;overflow: hidden;padding: 0;position: absolute;width: 1px;}#sk-container-id-2 div.sk-estimator {font-family: monospace;background-color: #f0f8ff;border: 1px dotted black;border-radius: 0.25em;box-sizing: border-box;margin-bottom: 0.5em;}#sk-container-id-2 div.sk-estimator:hover {background-color: #d4ebff;}#sk-container-id-2 div.sk-parallel-item::after {content: \"\";width: 100%;border-bottom: 1px solid gray;flex-grow: 1;}#sk-container-id-2 div.sk-label:hover label.sk-toggleable__label {background-color: #d4ebff;}#sk-container-id-2 div.sk-serial::before {content: \"\";position: absolute;border-left: 1px solid gray;box-sizing: border-box;top: 0;bottom: 0;left: 50%;z-index: 0;}#sk-container-id-2 div.sk-serial {display: flex;flex-direction: column;align-items: center;background-color: white;padding-right: 0.2em;padding-left: 0.2em;position: relative;}#sk-container-id-2 div.sk-item {position: relative;z-index: 1;}#sk-container-id-2 div.sk-parallel {display: flex;align-items: stretch;justify-content: center;background-color: white;position: relative;}#sk-container-id-2 div.sk-item::before, #sk-container-id-2 div.sk-parallel-item::before {content: \"\";position: absolute;border-left: 1px solid gray;box-sizing: border-box;top: 0;bottom: 0;left: 50%;z-index: -1;}#sk-container-id-2 div.sk-parallel-item {display: flex;flex-direction: column;z-index: 1;position: relative;background-color: white;}#sk-container-id-2 div.sk-parallel-item:first-child::after {align-self: flex-end;width: 50%;}#sk-container-id-2 div.sk-parallel-item:last-child::after {align-self: flex-start;width: 50%;}#sk-container-id-2 div.sk-parallel-item:only-child::after {width: 0;}#sk-container-id-2 div.sk-dashed-wrapped {border: 1px dashed gray;margin: 0 0.4em 0.5em 0.4em;box-sizing: border-box;padding-bottom: 0.4em;background-color: white;}#sk-container-id-2 div.sk-label label {font-family: monospace;font-weight: bold;display: inline-block;line-height: 1.2em;}#sk-container-id-2 div.sk-label-container {text-align: center;}#sk-container-id-2 div.sk-container {/* jupyter's `normalize.less` sets `[hidden] { display: none; }` but bootstrap.min.css set `[hidden] { display: none !important; }` so we also need the `!important` here to be able to override the default hidden behavior on the sphinx rendered scikit-learn.org. See: https://github.com/scikit-learn/scikit-learn/issues/21755 */display: inline-block !important;position: relative;}#sk-container-id-2 div.sk-text-repr-fallback {display: none;}</style><div id=\"sk-container-id-2\" class=\"sk-top-container\"><div class=\"sk-text-repr-fallback\"><pre>RandomizedSearchCV(estimator=LogisticRegression(max_iter=1000,\n",
       "                                                solver=&#x27;liblinear&#x27;),\n",
       "                   n_iter=8,\n",
       "                   param_distributions={&#x27;C&#x27;: &lt;scipy.stats._distn_infrastructure.rv_continuous_frozen object at 0x000002B422A22C10&gt;,\n",
       "                                        &#x27;penalty&#x27;: [&#x27;l1&#x27;, &#x27;l2&#x27;]})</pre><b>In a Jupyter environment, please rerun this cell to show the HTML representation or trust the notebook. <br />On GitHub, the HTML representation is unable to render, please try loading this page with nbviewer.org.</b></div><div class=\"sk-container\" hidden><div class=\"sk-item sk-dashed-wrapped\"><div class=\"sk-label-container\"><div class=\"sk-label sk-toggleable\"><input class=\"sk-toggleable__control sk-hidden--visually\" id=\"sk-estimator-id-4\" type=\"checkbox\" ><label for=\"sk-estimator-id-4\" class=\"sk-toggleable__label sk-toggleable__label-arrow\">RandomizedSearchCV</label><div class=\"sk-toggleable__content\"><pre>RandomizedSearchCV(estimator=LogisticRegression(max_iter=1000,\n",
       "                                                solver=&#x27;liblinear&#x27;),\n",
       "                   n_iter=8,\n",
       "                   param_distributions={&#x27;C&#x27;: &lt;scipy.stats._distn_infrastructure.rv_continuous_frozen object at 0x000002B422A22C10&gt;,\n",
       "                                        &#x27;penalty&#x27;: [&#x27;l1&#x27;, &#x27;l2&#x27;]})</pre></div></div></div><div class=\"sk-parallel\"><div class=\"sk-parallel-item\"><div class=\"sk-item\"><div class=\"sk-label-container\"><div class=\"sk-label sk-toggleable\"><input class=\"sk-toggleable__control sk-hidden--visually\" id=\"sk-estimator-id-5\" type=\"checkbox\" ><label for=\"sk-estimator-id-5\" class=\"sk-toggleable__label sk-toggleable__label-arrow\">estimator: LogisticRegression</label><div class=\"sk-toggleable__content\"><pre>LogisticRegression(max_iter=1000, solver=&#x27;liblinear&#x27;)</pre></div></div></div><div class=\"sk-serial\"><div class=\"sk-item\"><div class=\"sk-estimator sk-toggleable\"><input class=\"sk-toggleable__control sk-hidden--visually\" id=\"sk-estimator-id-6\" type=\"checkbox\" ><label for=\"sk-estimator-id-6\" class=\"sk-toggleable__label sk-toggleable__label-arrow\">LogisticRegression</label><div class=\"sk-toggleable__content\"><pre>LogisticRegression(max_iter=1000, solver=&#x27;liblinear&#x27;)</pre></div></div></div></div></div></div></div></div></div></div>"
      ],
      "text/plain": [
       "RandomizedSearchCV(estimator=LogisticRegression(max_iter=1000,\n",
       "                                                solver='liblinear'),\n",
       "                   n_iter=8,\n",
       "                   param_distributions={'C': <scipy.stats._distn_infrastructure.rv_continuous_frozen object at 0x000002B422A22C10>,\n",
       "                                        'penalty': ['l1', 'l2']})"
      ]
     },
     "execution_count": 23,
     "metadata": {},
     "output_type": "execute_result"
    }
   ],
   "source": [
    "# 12. Create a RandomizedSearchCV model\n",
    "clf = RandomizedSearchCV(lr, distributions, n_iter=8)\n",
    "\n",
    "# Fit the random search model\n",
    "clf.fit(X_train, y_train)"
   ]
  },
  {
   "cell_type": "code",
   "execution_count": 24,
   "id": "47a458d1",
   "metadata": {},
   "outputs": [
    {
     "name": "stdout",
     "output_type": "stream",
     "text": [
      "LogisticRegression(C=28.243098042424908, max_iter=1000, penalty='l1',\n",
      "                   solver='liblinear')\n",
      "0.8755555555555556\n",
      "           C penalty  Accuracy\n",
      "0  28.243098      l1  0.875556\n",
      "1  15.812566      l1  0.875556\n",
      "2  77.120194      l1  0.874074\n",
      "3  59.975408      l2  0.874074\n",
      "4  81.143619      l1  0.874074\n",
      "5  94.889498      l2  0.874074\n",
      "6  28.219517      l2  0.874074\n",
      "7  53.495576      l1  0.874074\n"
     ]
    }
   ],
   "source": [
    "# 13. Print best estimator and best score\n",
    "print(clf.best_estimator_)\n",
    "print (clf.best_score_)\n",
    "\n",
    "#Print a table summarizing the results of RandomSearchCV\n",
    "df = pd.concat([pd.DataFrame(clf.cv_results_['params']), pd.DataFrame(clf.cv_results_['mean_test_score'], columns=['Accuracy'])] ,axis=1)\n",
    "print(df.sort_values('Accuracy', ascending = False))"
   ]
  },
  {
   "cell_type": "markdown",
   "id": "9258c289",
   "metadata": {},
   "source": [
    "\n",
    "## Conclusion\n",
    "\n",
    "### Key Findings\n",
    "1. **Model Performance**:\n",
    "   - The best-performing model achieved an accuracy of `87%` on the test set. This indicates that the features extracted from the raisin dataset are effective in distinguishing between the two raisin types.\n",
    "   \n",
    "2. **Feature Importance**:\n",
    "   - Some features, such as `Area` and `Perimeter`, had a significant impact on the classification performance. This suggests that these morphological characteristics are strong indicators of raisin type.\n",
    "\n",
    "3. **Hyperparameter Tuning**:\n",
    "   - Grid Search and Random Search effectively optimized the Decision Tree and Logistic Regression models, respectively. Grid Search provided more precise control, while Random Search was more efficient in exploring the parameter space.\n",
    "\n",
    "### Future Work\n",
    "1. **Additional Features**:\n",
    "   - Include additional features like texture and color to improve classification accuracy.\n",
    "   \n",
    "2. **Advanced Modeling**:\n",
    "   - Explore more complex models like Support Vector Machines or ensemble methods like Random Forests and Gradient Boosting.\n",
    "   \n",
    "3. **Cross-Validation**:\n",
    "   - Implement cross-validation techniques to ensure the model's robustness and generalizability.\n",
    "\n",
    "This project demonstrates a comprehensive approach to model optimization and can serve as a strong foundation for further exploration in the field of machine learning and computer vision applications.\n",
    "\n",
    "---\n",
    "\n"
   ]
  }
 ],
 "metadata": {
  "kernelspec": {
   "display_name": "Python 3 (ipykernel)",
   "language": "python",
   "name": "python3"
  },
  "language_info": {
   "codemirror_mode": {
    "name": "ipython",
    "version": 3
   },
   "file_extension": ".py",
   "mimetype": "text/x-python",
   "name": "python",
   "nbconvert_exporter": "python",
   "pygments_lexer": "ipython3",
   "version": "3.10.14"
  }
 },
 "nbformat": 4,
 "nbformat_minor": 5
}
